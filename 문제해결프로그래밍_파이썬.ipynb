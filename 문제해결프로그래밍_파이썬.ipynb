{
  "nbformat": 4,
  "nbformat_minor": 0,
  "metadata": {
    "colab": {
      "provenance": [],
      "toc_visible": true,
      "authorship_tag": "ABX9TyMGUS09G70mEWe7k1rHqRWY",
      "include_colab_link": true
    },
    "kernelspec": {
      "name": "python3",
      "display_name": "Python 3"
    },
    "language_info": {
      "name": "python"
    }
  },
  "cells": [
    {
      "cell_type": "markdown",
      "metadata": {
        "id": "view-in-github",
        "colab_type": "text"
      },
      "source": [
        "<a href=\"https://colab.research.google.com/github/binseunghyun/homeschool/blob/main/%EB%AC%B8%EC%A0%9C%ED%95%B4%EA%B2%B0%ED%94%84%EB%A1%9C%EA%B7%B8%EB%9E%98%EB%B0%8D_%ED%8C%8C%EC%9D%B4%EC%8D%AC.ipynb\" target=\"_parent\"><img src=\"https://colab.research.google.com/assets/colab-badge.svg\" alt=\"Open In Colab\"/></a>"
      ]
    },
    {
      "cell_type": "code",
      "source": [
        "class Rectangle:\n",
        "  def __init__(self, a, b):\n",
        "    self.a = a\n",
        "    self.b = b\n",
        "  def sjfq(self):\n",
        "    return self.a * self.b\n",
        "\n",
        "a_b = Rectangle(c, d)\n",
        "c = int(input(\"가로 입력:\"))\n",
        "d = int(input(\"세로 입력:\"))\n",
        "print(\"넓이:\", a_b.sjfq())"
      ],
      "metadata": {
        "colab": {
          "base_uri": "https://localhost:8080/"
        },
        "id": "HdU1VqxWfLQA",
        "outputId": "a4abd194-e737-4b68-ad9f-a71f4c2749cb"
      },
      "execution_count": 11,
      "outputs": [
        {
          "output_type": "stream",
          "name": "stdout",
          "text": [
            "가로 입력:10\n",
            "세로 입력:20\n",
            "넓이: 200\n"
          ]
        }
      ]
    }
  ]
}